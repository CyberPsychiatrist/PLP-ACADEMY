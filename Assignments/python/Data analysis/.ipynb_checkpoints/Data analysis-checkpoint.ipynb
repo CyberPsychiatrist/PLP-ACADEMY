{
 "cells": [
  {
   "cell_type": "markdown",
   "id": "80642337",
   "metadata": {},
   "source": [
    "## Data Analysis With Pandas and Matplotlib "
   ]
  },
  {
   "cell_type": "code",
   "execution_count": null,
   "id": "3217f271",
   "metadata": {
    "vscode": {
     "languageId": "plaintext"
    }
   },
   "outputs": [],
   "source": [
    "from sklearn.datasets import load_boston\n",
    "\n",
    "# Load the Boston Housing dataset\n",
    "boston = load_boston()\n",
    "\n",
    "# Display the data\n",
    "print(boston.data)\n",
    "print(boston.target)\n",
    "\n",
    "# Display the feature names and target names\n",
    "print(\"Feature names:\", boston.feature_names)\n",
    "print(\"Target names:\", boston.target_names)"
   ]
  }
 ],
 "metadata": {
  "language_info": {
   "name": "python"
  }
 },
 "nbformat": 4,
 "nbformat_minor": 5
}
